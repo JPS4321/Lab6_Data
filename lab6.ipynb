{
 "cells": [
  {
   "cell_type": "markdown",
   "id": "f8bfe6ca",
   "metadata": {},
   "source": [
    "### **Laboratorio 6**\n",
    "\n",
    "- Juan Pablo Solis\n",
    "- Isabella Miralles"
   ]
  }
 ],
 "metadata": {
  "language_info": {
   "name": "python"
  }
 },
 "nbformat": 4,
 "nbformat_minor": 5
}
